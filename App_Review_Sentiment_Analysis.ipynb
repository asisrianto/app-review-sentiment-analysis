{
  "nbformat": 4,
  "nbformat_minor": 0,
  "metadata": {
    "colab": {
      "provenance": []
    },
    "kernelspec": {
      "name": "python3",
      "display_name": "Python 3"
    },
    "language_info": {
      "name": "python"
    },
    "accelerator": "GPU",
    "gpuClass": "standard"
  },
  "cells": [
    {
      "cell_type": "markdown",
      "source": [
        "## IMPORT REQUIRED LIBRARIES"
      ],
      "metadata": {
        "id": "fKmjpuUD5keV"
      }
    },
    {
      "cell_type": "code",
      "execution_count": 1,
      "metadata": {
        "colab": {
          "base_uri": "https://localhost:8080/"
        },
        "id": "vOnuOMPs1oMv",
        "outputId": "3ceec2f2-da04-4e7d-d90d-f3e3f1b665b3"
      },
      "outputs": [
        {
          "output_type": "stream",
          "name": "stdout",
          "text": [
            "Looking in indexes: https://pypi.org/simple, https://us-python.pkg.dev/colab-wheels/public/simple/\n",
            "Collecting google-play-scraper\n",
            "  Downloading google_play_scraper-1.2.2-py3-none-any.whl (28 kB)\n",
            "Installing collected packages: google-play-scraper\n",
            "Successfully installed google-play-scraper-1.2.2\n"
          ]
        }
      ],
      "source": [
        "!pip install google-play-scraper"
      ]
    },
    {
      "cell_type": "code",
      "source": [
        "import pandas as pd\n",
        "import numpy as np\n",
        "import tensorflow as tf\n",
        "from google_play_scraper import Sort, reviews_all\n",
        "from sklearn.model_selection import train_test_split\n",
        "from sklearn.model_selection import GridSearchCV\n",
        "from tensorflow.keras.preprocessing.text import Tokenizer\n",
        "from tensorflow.keras.preprocessing.sequence import pad_sequences\n",
        "import matplotlib.pyplot as plt\n",
        "import time"
      ],
      "metadata": {
        "id": "PnZmX3vi2tvM"
      },
      "execution_count": 47,
      "outputs": []
    },
    {
      "cell_type": "markdown",
      "source": [
        "## DATA COLLECTION"
      ],
      "metadata": {
        "id": "wFY-iRy85hSu"
      }
    },
    {
      "cell_type": "code",
      "source": [
        "scrapreview = reviews_all(\n",
        "    'com.bca',\n",
        "    lang='id',\n",
        "    sort=Sort.MOST_RELEVANT,\n",
        "    filter_score_with=None\n",
        ")"
      ],
      "metadata": {
        "id": "cy6GiWs_3bqs"
      },
      "execution_count": 3,
      "outputs": []
    },
    {
      "cell_type": "code",
      "source": [
        "review_results_df = pd.DataFrame(scrapreview)\n",
        "review_results_df.sample(5)"
      ],
      "metadata": {
        "colab": {
          "base_uri": "https://localhost:8080/",
          "height": 475
        },
        "id": "GRoHdQM04Mqe",
        "outputId": "a70cccbc-737f-4ecc-e78b-82f690269a3d"
      },
      "execution_count": 4,
      "outputs": [
        {
          "output_type": "execute_result",
          "data": {
            "text/plain": [
              "                                    reviewId           userName  \\\n",
              "117401  58efa05a-ab0f-468a-bbc6-30000e40e873      Murjan Nikmah   \n",
              "194134  8f659dbc-b9ac-4d3b-9ae9-f1eedb80a845    Pengguna Google   \n",
              "126530  2582e5e5-70c2-4717-99ac-f95a008c5104         rudi salam   \n",
              "63945   f28b8652-7866-4eb5-a4db-e2c8a6fbf601         Arif Rifai   \n",
              "11942   abbbb8e2-616f-4fb4-818d-5ab7bbed8ad1  rata lebak bunter   \n",
              "\n",
              "                                                userImage  \\\n",
              "117401  https://play-lh.googleusercontent.com/a/AEdFTp...   \n",
              "194134  https://play-lh.googleusercontent.com/EGemoI2N...   \n",
              "126530  https://play-lh.googleusercontent.com/a/AEdFTp...   \n",
              "63945   https://play-lh.googleusercontent.com/a-/AD5-W...   \n",
              "11942   https://play-lh.googleusercontent.com/a-/AD5-W...   \n",
              "\n",
              "                                                  content  score  \\\n",
              "117401                          alhmdllah sangat membantu      5   \n",
              "194134                                        ramah tamah      5   \n",
              "126530                                   Baru mau di coba      4   \n",
              "63945   apakah harus selalu update ..?!. Klu ada updat...      3   \n",
              "11942   Cuma saran kalo bisa setiap ada pengiriman/tra...      5   \n",
              "\n",
              "        thumbsUpCount reviewCreatedVersion                  at  \\\n",
              "117401              0                2.9.0 2022-04-01 12:52:30   \n",
              "194134              0                2.2.4 2020-01-26 05:39:19   \n",
              "126530              0                2.3.1 2020-05-14 10:25:39   \n",
              "63945               0                2.5.2 2020-05-28 06:16:20   \n",
              "11942               0                2.9.4 2022-07-02 04:36:21   \n",
              "\n",
              "                                             replyContent           repliedAt  \n",
              "117401                                               None                 NaT  \n",
              "194134  Terima kasih atas ulasannya. Semoga fasilitas ... 2020-01-31 14:37:49  \n",
              "126530  Terima kasih atas ulasannya. Semoga fasilitas ... 2020-06-04 06:06:59  \n",
              "63945                                                None                 NaT  \n",
              "11942   Dengan senang hati kami informasikan, jika men... 2022-07-02 05:12:48  "
            ],
            "text/html": [
              "\n",
              "  <div id=\"df-bfb48298-1497-4de7-95e3-0737c38a48ce\">\n",
              "    <div class=\"colab-df-container\">\n",
              "      <div>\n",
              "<style scoped>\n",
              "    .dataframe tbody tr th:only-of-type {\n",
              "        vertical-align: middle;\n",
              "    }\n",
              "\n",
              "    .dataframe tbody tr th {\n",
              "        vertical-align: top;\n",
              "    }\n",
              "\n",
              "    .dataframe thead th {\n",
              "        text-align: right;\n",
              "    }\n",
              "</style>\n",
              "<table border=\"1\" class=\"dataframe\">\n",
              "  <thead>\n",
              "    <tr style=\"text-align: right;\">\n",
              "      <th></th>\n",
              "      <th>reviewId</th>\n",
              "      <th>userName</th>\n",
              "      <th>userImage</th>\n",
              "      <th>content</th>\n",
              "      <th>score</th>\n",
              "      <th>thumbsUpCount</th>\n",
              "      <th>reviewCreatedVersion</th>\n",
              "      <th>at</th>\n",
              "      <th>replyContent</th>\n",
              "      <th>repliedAt</th>\n",
              "    </tr>\n",
              "  </thead>\n",
              "  <tbody>\n",
              "    <tr>\n",
              "      <th>117401</th>\n",
              "      <td>58efa05a-ab0f-468a-bbc6-30000e40e873</td>\n",
              "      <td>Murjan Nikmah</td>\n",
              "      <td>https://play-lh.googleusercontent.com/a/AEdFTp...</td>\n",
              "      <td>alhmdllah sangat membantu</td>\n",
              "      <td>5</td>\n",
              "      <td>0</td>\n",
              "      <td>2.9.0</td>\n",
              "      <td>2022-04-01 12:52:30</td>\n",
              "      <td>None</td>\n",
              "      <td>NaT</td>\n",
              "    </tr>\n",
              "    <tr>\n",
              "      <th>194134</th>\n",
              "      <td>8f659dbc-b9ac-4d3b-9ae9-f1eedb80a845</td>\n",
              "      <td>Pengguna Google</td>\n",
              "      <td>https://play-lh.googleusercontent.com/EGemoI2N...</td>\n",
              "      <td>ramah tamah</td>\n",
              "      <td>5</td>\n",
              "      <td>0</td>\n",
              "      <td>2.2.4</td>\n",
              "      <td>2020-01-26 05:39:19</td>\n",
              "      <td>Terima kasih atas ulasannya. Semoga fasilitas ...</td>\n",
              "      <td>2020-01-31 14:37:49</td>\n",
              "    </tr>\n",
              "    <tr>\n",
              "      <th>126530</th>\n",
              "      <td>2582e5e5-70c2-4717-99ac-f95a008c5104</td>\n",
              "      <td>rudi salam</td>\n",
              "      <td>https://play-lh.googleusercontent.com/a/AEdFTp...</td>\n",
              "      <td>Baru mau di coba</td>\n",
              "      <td>4</td>\n",
              "      <td>0</td>\n",
              "      <td>2.3.1</td>\n",
              "      <td>2020-05-14 10:25:39</td>\n",
              "      <td>Terima kasih atas ulasannya. Semoga fasilitas ...</td>\n",
              "      <td>2020-06-04 06:06:59</td>\n",
              "    </tr>\n",
              "    <tr>\n",
              "      <th>63945</th>\n",
              "      <td>f28b8652-7866-4eb5-a4db-e2c8a6fbf601</td>\n",
              "      <td>Arif Rifai</td>\n",
              "      <td>https://play-lh.googleusercontent.com/a-/AD5-W...</td>\n",
              "      <td>apakah harus selalu update ..?!. Klu ada updat...</td>\n",
              "      <td>3</td>\n",
              "      <td>0</td>\n",
              "      <td>2.5.2</td>\n",
              "      <td>2020-05-28 06:16:20</td>\n",
              "      <td>None</td>\n",
              "      <td>NaT</td>\n",
              "    </tr>\n",
              "    <tr>\n",
              "      <th>11942</th>\n",
              "      <td>abbbb8e2-616f-4fb4-818d-5ab7bbed8ad1</td>\n",
              "      <td>rata lebak bunter</td>\n",
              "      <td>https://play-lh.googleusercontent.com/a-/AD5-W...</td>\n",
              "      <td>Cuma saran kalo bisa setiap ada pengiriman/tra...</td>\n",
              "      <td>5</td>\n",
              "      <td>0</td>\n",
              "      <td>2.9.4</td>\n",
              "      <td>2022-07-02 04:36:21</td>\n",
              "      <td>Dengan senang hati kami informasikan, jika men...</td>\n",
              "      <td>2022-07-02 05:12:48</td>\n",
              "    </tr>\n",
              "  </tbody>\n",
              "</table>\n",
              "</div>\n",
              "      <button class=\"colab-df-convert\" onclick=\"convertToInteractive('df-bfb48298-1497-4de7-95e3-0737c38a48ce')\"\n",
              "              title=\"Convert this dataframe to an interactive table.\"\n",
              "              style=\"display:none;\">\n",
              "        \n",
              "  <svg xmlns=\"http://www.w3.org/2000/svg\" height=\"24px\"viewBox=\"0 0 24 24\"\n",
              "       width=\"24px\">\n",
              "    <path d=\"M0 0h24v24H0V0z\" fill=\"none\"/>\n",
              "    <path d=\"M18.56 5.44l.94 2.06.94-2.06 2.06-.94-2.06-.94-.94-2.06-.94 2.06-2.06.94zm-11 1L8.5 8.5l.94-2.06 2.06-.94-2.06-.94L8.5 2.5l-.94 2.06-2.06.94zm10 10l.94 2.06.94-2.06 2.06-.94-2.06-.94-.94-2.06-.94 2.06-2.06.94z\"/><path d=\"M17.41 7.96l-1.37-1.37c-.4-.4-.92-.59-1.43-.59-.52 0-1.04.2-1.43.59L10.3 9.45l-7.72 7.72c-.78.78-.78 2.05 0 2.83L4 21.41c.39.39.9.59 1.41.59.51 0 1.02-.2 1.41-.59l7.78-7.78 2.81-2.81c.8-.78.8-2.07 0-2.86zM5.41 20L4 18.59l7.72-7.72 1.47 1.35L5.41 20z\"/>\n",
              "  </svg>\n",
              "      </button>\n",
              "      \n",
              "  <style>\n",
              "    .colab-df-container {\n",
              "      display:flex;\n",
              "      flex-wrap:wrap;\n",
              "      gap: 12px;\n",
              "    }\n",
              "\n",
              "    .colab-df-convert {\n",
              "      background-color: #E8F0FE;\n",
              "      border: none;\n",
              "      border-radius: 50%;\n",
              "      cursor: pointer;\n",
              "      display: none;\n",
              "      fill: #1967D2;\n",
              "      height: 32px;\n",
              "      padding: 0 0 0 0;\n",
              "      width: 32px;\n",
              "    }\n",
              "\n",
              "    .colab-df-convert:hover {\n",
              "      background-color: #E2EBFA;\n",
              "      box-shadow: 0px 1px 2px rgba(60, 64, 67, 0.3), 0px 1px 3px 1px rgba(60, 64, 67, 0.15);\n",
              "      fill: #174EA6;\n",
              "    }\n",
              "\n",
              "    [theme=dark] .colab-df-convert {\n",
              "      background-color: #3B4455;\n",
              "      fill: #D2E3FC;\n",
              "    }\n",
              "\n",
              "    [theme=dark] .colab-df-convert:hover {\n",
              "      background-color: #434B5C;\n",
              "      box-shadow: 0px 1px 3px 1px rgba(0, 0, 0, 0.15);\n",
              "      filter: drop-shadow(0px 1px 2px rgba(0, 0, 0, 0.3));\n",
              "      fill: #FFFFFF;\n",
              "    }\n",
              "  </style>\n",
              "\n",
              "      <script>\n",
              "        const buttonEl =\n",
              "          document.querySelector('#df-bfb48298-1497-4de7-95e3-0737c38a48ce button.colab-df-convert');\n",
              "        buttonEl.style.display =\n",
              "          google.colab.kernel.accessAllowed ? 'block' : 'none';\n",
              "\n",
              "        async function convertToInteractive(key) {\n",
              "          const element = document.querySelector('#df-bfb48298-1497-4de7-95e3-0737c38a48ce');\n",
              "          const dataTable =\n",
              "            await google.colab.kernel.invokeFunction('convertToInteractive',\n",
              "                                                     [key], {});\n",
              "          if (!dataTable) return;\n",
              "\n",
              "          const docLinkHtml = 'Like what you see? Visit the ' +\n",
              "            '<a target=\"_blank\" href=https://colab.research.google.com/notebooks/data_table.ipynb>data table notebook</a>'\n",
              "            + ' to learn more about interactive tables.';\n",
              "          element.innerHTML = '';\n",
              "          dataTable['output_type'] = 'display_data';\n",
              "          await google.colab.output.renderOutput(dataTable, element);\n",
              "          const docLink = document.createElement('div');\n",
              "          docLink.innerHTML = docLinkHtml;\n",
              "          element.appendChild(docLink);\n",
              "        }\n",
              "      </script>\n",
              "    </div>\n",
              "  </div>\n",
              "  "
            ]
          },
          "metadata": {},
          "execution_count": 4
        }
      ]
    },
    {
      "cell_type": "code",
      "source": [
        "review_results_df.to_csv('/BCA_mobile_review_results_(most_relevant).csv', index=None, header=True)"
      ],
      "metadata": {
        "id": "DHSBRPSp47pW"
      },
      "execution_count": 5,
      "outputs": []
    },
    {
      "cell_type": "code",
      "source": [
        "review_results_df = pd.DataFrame(scrapreview)"
      ],
      "metadata": {
        "id": "UXnBH-n7Xlhb"
      },
      "execution_count": null,
      "outputs": []
    },
    {
      "cell_type": "markdown",
      "source": [
        "## EXPLORATORY DATA ANALYSIS"
      ],
      "metadata": {
        "id": "7bWuHwqb6K5s"
      }
    },
    {
      "cell_type": "code",
      "source": [
        "review_results_df.shape"
      ],
      "metadata": {
        "colab": {
          "base_uri": "https://localhost:8080/"
        },
        "id": "glTpf_znYqMl",
        "outputId": "f1a0f3fa-918c-4d58-b72d-bb6bd03c11e2"
      },
      "execution_count": 6,
      "outputs": [
        {
          "output_type": "execute_result",
          "data": {
            "text/plain": [
              "(197408, 10)"
            ]
          },
          "metadata": {},
          "execution_count": 6
        }
      ]
    },
    {
      "cell_type": "code",
      "source": [
        "review_results_df.isnull().sum()"
      ],
      "metadata": {
        "colab": {
          "base_uri": "https://localhost:8080/"
        },
        "id": "SmXm8O7zYcSd",
        "outputId": "0b38ba23-7a06-48d1-ad5a-b82f9d416dc0"
      },
      "execution_count": 7,
      "outputs": [
        {
          "output_type": "execute_result",
          "data": {
            "text/plain": [
              "reviewId                    0\n",
              "userName                    0\n",
              "userImage                   0\n",
              "content                     0\n",
              "score                       0\n",
              "thumbsUpCount               0\n",
              "reviewCreatedVersion    24910\n",
              "at                          0\n",
              "replyContent            13608\n",
              "repliedAt               13608\n",
              "dtype: int64"
            ]
          },
          "metadata": {},
          "execution_count": 7
        }
      ]
    },
    {
      "cell_type": "code",
      "source": [
        "clean_df = review_results_df.drop(columns=['reviewId', 'userName', 'userImage', 'thumbsUpCount', 'reviewCreatedVersion', 'at', 'replyContent', 'repliedAt'])\n",
        "clean_df.sample(5)"
      ],
      "metadata": {
        "colab": {
          "base_uri": "https://localhost:8080/",
          "height": 206
        },
        "id": "YkWMoLi2OvCC",
        "outputId": "f21dfe5b-594d-48df-8b64-802bb24ba4bb"
      },
      "execution_count": 8,
      "outputs": [
        {
          "output_type": "execute_result",
          "data": {
            "text/plain": [
              "                                                  content  score\n",
              "65482   Kenpa saya gk bisa masuk d pake smalm bisa ska...      5\n",
              "153331                                              Bagus      5\n",
              "45759   Dgn adanya aplikasi bca mobile ini sy merasa s...      5\n",
              "42962         Aplikasi mudah dioperasikan sangat membantu      5\n",
              "74949          Sangat membantu sekali Transfer lebih muda      5"
            ],
            "text/html": [
              "\n",
              "  <div id=\"df-584750c5-d99f-41c3-b9fc-93c9a67e1377\">\n",
              "    <div class=\"colab-df-container\">\n",
              "      <div>\n",
              "<style scoped>\n",
              "    .dataframe tbody tr th:only-of-type {\n",
              "        vertical-align: middle;\n",
              "    }\n",
              "\n",
              "    .dataframe tbody tr th {\n",
              "        vertical-align: top;\n",
              "    }\n",
              "\n",
              "    .dataframe thead th {\n",
              "        text-align: right;\n",
              "    }\n",
              "</style>\n",
              "<table border=\"1\" class=\"dataframe\">\n",
              "  <thead>\n",
              "    <tr style=\"text-align: right;\">\n",
              "      <th></th>\n",
              "      <th>content</th>\n",
              "      <th>score</th>\n",
              "    </tr>\n",
              "  </thead>\n",
              "  <tbody>\n",
              "    <tr>\n",
              "      <th>65482</th>\n",
              "      <td>Kenpa saya gk bisa masuk d pake smalm bisa ska...</td>\n",
              "      <td>5</td>\n",
              "    </tr>\n",
              "    <tr>\n",
              "      <th>153331</th>\n",
              "      <td>Bagus</td>\n",
              "      <td>5</td>\n",
              "    </tr>\n",
              "    <tr>\n",
              "      <th>45759</th>\n",
              "      <td>Dgn adanya aplikasi bca mobile ini sy merasa s...</td>\n",
              "      <td>5</td>\n",
              "    </tr>\n",
              "    <tr>\n",
              "      <th>42962</th>\n",
              "      <td>Aplikasi mudah dioperasikan sangat membantu</td>\n",
              "      <td>5</td>\n",
              "    </tr>\n",
              "    <tr>\n",
              "      <th>74949</th>\n",
              "      <td>Sangat membantu sekali Transfer lebih muda</td>\n",
              "      <td>5</td>\n",
              "    </tr>\n",
              "  </tbody>\n",
              "</table>\n",
              "</div>\n",
              "      <button class=\"colab-df-convert\" onclick=\"convertToInteractive('df-584750c5-d99f-41c3-b9fc-93c9a67e1377')\"\n",
              "              title=\"Convert this dataframe to an interactive table.\"\n",
              "              style=\"display:none;\">\n",
              "        \n",
              "  <svg xmlns=\"http://www.w3.org/2000/svg\" height=\"24px\"viewBox=\"0 0 24 24\"\n",
              "       width=\"24px\">\n",
              "    <path d=\"M0 0h24v24H0V0z\" fill=\"none\"/>\n",
              "    <path d=\"M18.56 5.44l.94 2.06.94-2.06 2.06-.94-2.06-.94-.94-2.06-.94 2.06-2.06.94zm-11 1L8.5 8.5l.94-2.06 2.06-.94-2.06-.94L8.5 2.5l-.94 2.06-2.06.94zm10 10l.94 2.06.94-2.06 2.06-.94-2.06-.94-.94-2.06-.94 2.06-2.06.94z\"/><path d=\"M17.41 7.96l-1.37-1.37c-.4-.4-.92-.59-1.43-.59-.52 0-1.04.2-1.43.59L10.3 9.45l-7.72 7.72c-.78.78-.78 2.05 0 2.83L4 21.41c.39.39.9.59 1.41.59.51 0 1.02-.2 1.41-.59l7.78-7.78 2.81-2.81c.8-.78.8-2.07 0-2.86zM5.41 20L4 18.59l7.72-7.72 1.47 1.35L5.41 20z\"/>\n",
              "  </svg>\n",
              "      </button>\n",
              "      \n",
              "  <style>\n",
              "    .colab-df-container {\n",
              "      display:flex;\n",
              "      flex-wrap:wrap;\n",
              "      gap: 12px;\n",
              "    }\n",
              "\n",
              "    .colab-df-convert {\n",
              "      background-color: #E8F0FE;\n",
              "      border: none;\n",
              "      border-radius: 50%;\n",
              "      cursor: pointer;\n",
              "      display: none;\n",
              "      fill: #1967D2;\n",
              "      height: 32px;\n",
              "      padding: 0 0 0 0;\n",
              "      width: 32px;\n",
              "    }\n",
              "\n",
              "    .colab-df-convert:hover {\n",
              "      background-color: #E2EBFA;\n",
              "      box-shadow: 0px 1px 2px rgba(60, 64, 67, 0.3), 0px 1px 3px 1px rgba(60, 64, 67, 0.15);\n",
              "      fill: #174EA6;\n",
              "    }\n",
              "\n",
              "    [theme=dark] .colab-df-convert {\n",
              "      background-color: #3B4455;\n",
              "      fill: #D2E3FC;\n",
              "    }\n",
              "\n",
              "    [theme=dark] .colab-df-convert:hover {\n",
              "      background-color: #434B5C;\n",
              "      box-shadow: 0px 1px 3px 1px rgba(0, 0, 0, 0.15);\n",
              "      filter: drop-shadow(0px 1px 2px rgba(0, 0, 0, 0.3));\n",
              "      fill: #FFFFFF;\n",
              "    }\n",
              "  </style>\n",
              "\n",
              "      <script>\n",
              "        const buttonEl =\n",
              "          document.querySelector('#df-584750c5-d99f-41c3-b9fc-93c9a67e1377 button.colab-df-convert');\n",
              "        buttonEl.style.display =\n",
              "          google.colab.kernel.accessAllowed ? 'block' : 'none';\n",
              "\n",
              "        async function convertToInteractive(key) {\n",
              "          const element = document.querySelector('#df-584750c5-d99f-41c3-b9fc-93c9a67e1377');\n",
              "          const dataTable =\n",
              "            await google.colab.kernel.invokeFunction('convertToInteractive',\n",
              "                                                     [key], {});\n",
              "          if (!dataTable) return;\n",
              "\n",
              "          const docLinkHtml = 'Like what you see? Visit the ' +\n",
              "            '<a target=\"_blank\" href=https://colab.research.google.com/notebooks/data_table.ipynb>data table notebook</a>'\n",
              "            + ' to learn more about interactive tables.';\n",
              "          element.innerHTML = '';\n",
              "          dataTable['output_type'] = 'display_data';\n",
              "          await google.colab.output.renderOutput(dataTable, element);\n",
              "          const docLink = document.createElement('div');\n",
              "          docLink.innerHTML = docLinkHtml;\n",
              "          element.appendChild(docLink);\n",
              "        }\n",
              "      </script>\n",
              "    </div>\n",
              "  </div>\n",
              "  "
            ]
          },
          "metadata": {},
          "execution_count": 8
        }
      ]
    },
    {
      "cell_type": "code",
      "source": [
        "clean_df.score.value_counts()"
      ],
      "metadata": {
        "colab": {
          "base_uri": "https://localhost:8080/"
        },
        "id": "2qMTuI1KX7ax",
        "outputId": "0539d89c-edf4-4316-dbf5-2822f1f91c21"
      },
      "execution_count": 27,
      "outputs": [
        {
          "output_type": "execute_result",
          "data": {
            "text/plain": [
              "5    131032\n",
              "1     32682\n",
              "4     13951\n",
              "3     10724\n",
              "2      9019\n",
              "Name: score, dtype: int64"
            ]
          },
          "metadata": {},
          "execution_count": 27
        }
      ]
    },
    {
      "cell_type": "code",
      "source": [
        "clean_df = clean_df.astype(str)"
      ],
      "metadata": {
        "id": "JCRpIzT46VPj"
      },
      "execution_count": 9,
      "outputs": []
    },
    {
      "cell_type": "code",
      "source": [
        "category = pd.get_dummies(clean_df.score)\n",
        "final_df = pd.concat([clean_df, category], axis=1)\n",
        "final_df = final_df.drop(columns='score')\n",
        "final_df.sample(5)"
      ],
      "metadata": {
        "colab": {
          "base_uri": "https://localhost:8080/",
          "height": 206
        },
        "id": "8MGdr-ixNn9Q",
        "outputId": "b28a69b7-3f83-4dc2-c437-8475bb70607e"
      },
      "execution_count": 10,
      "outputs": [
        {
          "output_type": "execute_result",
          "data": {
            "text/plain": [
              "                                                  content  1  2  3  4  5\n",
              "156190                                             Mantab  0  0  0  0  1\n",
              "181218                                       Sangat bagus  0  0  0  0  1\n",
              "137654                                             Nyaman  0  0  0  0  1\n",
              "48814   sering eror padahal jaringan bagus...mohon d p...  0  0  1  0  0\n",
              "104169                                    sangat membantu  0  0  0  0  1"
            ],
            "text/html": [
              "\n",
              "  <div id=\"df-57ab9889-b64e-4c6a-8f13-76d328c310a8\">\n",
              "    <div class=\"colab-df-container\">\n",
              "      <div>\n",
              "<style scoped>\n",
              "    .dataframe tbody tr th:only-of-type {\n",
              "        vertical-align: middle;\n",
              "    }\n",
              "\n",
              "    .dataframe tbody tr th {\n",
              "        vertical-align: top;\n",
              "    }\n",
              "\n",
              "    .dataframe thead th {\n",
              "        text-align: right;\n",
              "    }\n",
              "</style>\n",
              "<table border=\"1\" class=\"dataframe\">\n",
              "  <thead>\n",
              "    <tr style=\"text-align: right;\">\n",
              "      <th></th>\n",
              "      <th>content</th>\n",
              "      <th>1</th>\n",
              "      <th>2</th>\n",
              "      <th>3</th>\n",
              "      <th>4</th>\n",
              "      <th>5</th>\n",
              "    </tr>\n",
              "  </thead>\n",
              "  <tbody>\n",
              "    <tr>\n",
              "      <th>156190</th>\n",
              "      <td>Mantab</td>\n",
              "      <td>0</td>\n",
              "      <td>0</td>\n",
              "      <td>0</td>\n",
              "      <td>0</td>\n",
              "      <td>1</td>\n",
              "    </tr>\n",
              "    <tr>\n",
              "      <th>181218</th>\n",
              "      <td>Sangat bagus</td>\n",
              "      <td>0</td>\n",
              "      <td>0</td>\n",
              "      <td>0</td>\n",
              "      <td>0</td>\n",
              "      <td>1</td>\n",
              "    </tr>\n",
              "    <tr>\n",
              "      <th>137654</th>\n",
              "      <td>Nyaman</td>\n",
              "      <td>0</td>\n",
              "      <td>0</td>\n",
              "      <td>0</td>\n",
              "      <td>0</td>\n",
              "      <td>1</td>\n",
              "    </tr>\n",
              "    <tr>\n",
              "      <th>48814</th>\n",
              "      <td>sering eror padahal jaringan bagus...mohon d p...</td>\n",
              "      <td>0</td>\n",
              "      <td>0</td>\n",
              "      <td>1</td>\n",
              "      <td>0</td>\n",
              "      <td>0</td>\n",
              "    </tr>\n",
              "    <tr>\n",
              "      <th>104169</th>\n",
              "      <td>sangat membantu</td>\n",
              "      <td>0</td>\n",
              "      <td>0</td>\n",
              "      <td>0</td>\n",
              "      <td>0</td>\n",
              "      <td>1</td>\n",
              "    </tr>\n",
              "  </tbody>\n",
              "</table>\n",
              "</div>\n",
              "      <button class=\"colab-df-convert\" onclick=\"convertToInteractive('df-57ab9889-b64e-4c6a-8f13-76d328c310a8')\"\n",
              "              title=\"Convert this dataframe to an interactive table.\"\n",
              "              style=\"display:none;\">\n",
              "        \n",
              "  <svg xmlns=\"http://www.w3.org/2000/svg\" height=\"24px\"viewBox=\"0 0 24 24\"\n",
              "       width=\"24px\">\n",
              "    <path d=\"M0 0h24v24H0V0z\" fill=\"none\"/>\n",
              "    <path d=\"M18.56 5.44l.94 2.06.94-2.06 2.06-.94-2.06-.94-.94-2.06-.94 2.06-2.06.94zm-11 1L8.5 8.5l.94-2.06 2.06-.94-2.06-.94L8.5 2.5l-.94 2.06-2.06.94zm10 10l.94 2.06.94-2.06 2.06-.94-2.06-.94-.94-2.06-.94 2.06-2.06.94z\"/><path d=\"M17.41 7.96l-1.37-1.37c-.4-.4-.92-.59-1.43-.59-.52 0-1.04.2-1.43.59L10.3 9.45l-7.72 7.72c-.78.78-.78 2.05 0 2.83L4 21.41c.39.39.9.59 1.41.59.51 0 1.02-.2 1.41-.59l7.78-7.78 2.81-2.81c.8-.78.8-2.07 0-2.86zM5.41 20L4 18.59l7.72-7.72 1.47 1.35L5.41 20z\"/>\n",
              "  </svg>\n",
              "      </button>\n",
              "      \n",
              "  <style>\n",
              "    .colab-df-container {\n",
              "      display:flex;\n",
              "      flex-wrap:wrap;\n",
              "      gap: 12px;\n",
              "    }\n",
              "\n",
              "    .colab-df-convert {\n",
              "      background-color: #E8F0FE;\n",
              "      border: none;\n",
              "      border-radius: 50%;\n",
              "      cursor: pointer;\n",
              "      display: none;\n",
              "      fill: #1967D2;\n",
              "      height: 32px;\n",
              "      padding: 0 0 0 0;\n",
              "      width: 32px;\n",
              "    }\n",
              "\n",
              "    .colab-df-convert:hover {\n",
              "      background-color: #E2EBFA;\n",
              "      box-shadow: 0px 1px 2px rgba(60, 64, 67, 0.3), 0px 1px 3px 1px rgba(60, 64, 67, 0.15);\n",
              "      fill: #174EA6;\n",
              "    }\n",
              "\n",
              "    [theme=dark] .colab-df-convert {\n",
              "      background-color: #3B4455;\n",
              "      fill: #D2E3FC;\n",
              "    }\n",
              "\n",
              "    [theme=dark] .colab-df-convert:hover {\n",
              "      background-color: #434B5C;\n",
              "      box-shadow: 0px 1px 3px 1px rgba(0, 0, 0, 0.15);\n",
              "      filter: drop-shadow(0px 1px 2px rgba(0, 0, 0, 0.3));\n",
              "      fill: #FFFFFF;\n",
              "    }\n",
              "  </style>\n",
              "\n",
              "      <script>\n",
              "        const buttonEl =\n",
              "          document.querySelector('#df-57ab9889-b64e-4c6a-8f13-76d328c310a8 button.colab-df-convert');\n",
              "        buttonEl.style.display =\n",
              "          google.colab.kernel.accessAllowed ? 'block' : 'none';\n",
              "\n",
              "        async function convertToInteractive(key) {\n",
              "          const element = document.querySelector('#df-57ab9889-b64e-4c6a-8f13-76d328c310a8');\n",
              "          const dataTable =\n",
              "            await google.colab.kernel.invokeFunction('convertToInteractive',\n",
              "                                                     [key], {});\n",
              "          if (!dataTable) return;\n",
              "\n",
              "          const docLinkHtml = 'Like what you see? Visit the ' +\n",
              "            '<a target=\"_blank\" href=https://colab.research.google.com/notebooks/data_table.ipynb>data table notebook</a>'\n",
              "            + ' to learn more about interactive tables.';\n",
              "          element.innerHTML = '';\n",
              "          dataTable['output_type'] = 'display_data';\n",
              "          await google.colab.output.renderOutput(dataTable, element);\n",
              "          const docLink = document.createElement('div');\n",
              "          docLink.innerHTML = docLinkHtml;\n",
              "          element.appendChild(docLink);\n",
              "        }\n",
              "      </script>\n",
              "    </div>\n",
              "  </div>\n",
              "  "
            ]
          },
          "metadata": {},
          "execution_count": 10
        }
      ]
    },
    {
      "cell_type": "markdown",
      "source": [
        "## DATA PREPROCESSING"
      ],
      "metadata": {
        "id": "xpWo_Hsw6PRj"
      }
    },
    {
      "cell_type": "code",
      "source": [
        "final_df.rename(\n",
        "    columns=({'1':'very_bad','2':'bad','3':'average','4':'good','5':'very_good'}),\n",
        "    inplace=True,\n",
        ")\n",
        "final_df.sample(5)"
      ],
      "metadata": {
        "colab": {
          "base_uri": "https://localhost:8080/",
          "height": 423
        },
        "id": "7wIi2WAqNCmf",
        "outputId": "7688dc5b-3d9a-4534-f734-94b4fa1b0f66"
      },
      "execution_count": 11,
      "outputs": [
        {
          "output_type": "execute_result",
          "data": {
            "text/plain": [
              "                                                  content  very_bad  bad  \\\n",
              "0       Semua data sudah benar, udah foto sendiri. Wah...         1    0   \n",
              "1       Buat halaman dong yg menampilkan nomor rekenin...         0    0   \n",
              "2       Teknologi scan isi data KTP otomatis sudah ses...         1    0   \n",
              "3       Masak di upgrade versi baru barcode ngak ada ,...         0    1   \n",
              "4       Kurang suka sama UI nya, kuno dan ribet bgt be...         0    1   \n",
              "...                                                   ...       ...  ...   \n",
              "197403                                           Membantu         0    0   \n",
              "197404                                             Simple         0    0   \n",
              "197405                                             Mantap         0    0   \n",
              "197406                                             Mantab         0    0   \n",
              "197407                                               Good         0    0   \n",
              "\n",
              "        average  good  very_good  \n",
              "0             0     0          0  \n",
              "1             1     0          0  \n",
              "2             0     0          0  \n",
              "3             0     0          0  \n",
              "4             0     0          0  \n",
              "...         ...   ...        ...  \n",
              "197403        0     1          0  \n",
              "197404        0     0          1  \n",
              "197405        0     0          1  \n",
              "197406        0     0          1  \n",
              "197407        0     0          1  \n",
              "\n",
              "[197408 rows x 6 columns]"
            ],
            "text/html": [
              "\n",
              "  <div id=\"df-94f86a75-e860-4180-a2f1-0b3ca9b694e7\">\n",
              "    <div class=\"colab-df-container\">\n",
              "      <div>\n",
              "<style scoped>\n",
              "    .dataframe tbody tr th:only-of-type {\n",
              "        vertical-align: middle;\n",
              "    }\n",
              "\n",
              "    .dataframe tbody tr th {\n",
              "        vertical-align: top;\n",
              "    }\n",
              "\n",
              "    .dataframe thead th {\n",
              "        text-align: right;\n",
              "    }\n",
              "</style>\n",
              "<table border=\"1\" class=\"dataframe\">\n",
              "  <thead>\n",
              "    <tr style=\"text-align: right;\">\n",
              "      <th></th>\n",
              "      <th>content</th>\n",
              "      <th>very_bad</th>\n",
              "      <th>bad</th>\n",
              "      <th>average</th>\n",
              "      <th>good</th>\n",
              "      <th>very_good</th>\n",
              "    </tr>\n",
              "  </thead>\n",
              "  <tbody>\n",
              "    <tr>\n",
              "      <th>0</th>\n",
              "      <td>Semua data sudah benar, udah foto sendiri. Wah...</td>\n",
              "      <td>1</td>\n",
              "      <td>0</td>\n",
              "      <td>0</td>\n",
              "      <td>0</td>\n",
              "      <td>0</td>\n",
              "    </tr>\n",
              "    <tr>\n",
              "      <th>1</th>\n",
              "      <td>Buat halaman dong yg menampilkan nomor rekenin...</td>\n",
              "      <td>0</td>\n",
              "      <td>0</td>\n",
              "      <td>1</td>\n",
              "      <td>0</td>\n",
              "      <td>0</td>\n",
              "    </tr>\n",
              "    <tr>\n",
              "      <th>2</th>\n",
              "      <td>Teknologi scan isi data KTP otomatis sudah ses...</td>\n",
              "      <td>1</td>\n",
              "      <td>0</td>\n",
              "      <td>0</td>\n",
              "      <td>0</td>\n",
              "      <td>0</td>\n",
              "    </tr>\n",
              "    <tr>\n",
              "      <th>3</th>\n",
              "      <td>Masak di upgrade versi baru barcode ngak ada ,...</td>\n",
              "      <td>0</td>\n",
              "      <td>1</td>\n",
              "      <td>0</td>\n",
              "      <td>0</td>\n",
              "      <td>0</td>\n",
              "    </tr>\n",
              "    <tr>\n",
              "      <th>4</th>\n",
              "      <td>Kurang suka sama UI nya, kuno dan ribet bgt be...</td>\n",
              "      <td>0</td>\n",
              "      <td>1</td>\n",
              "      <td>0</td>\n",
              "      <td>0</td>\n",
              "      <td>0</td>\n",
              "    </tr>\n",
              "    <tr>\n",
              "      <th>...</th>\n",
              "      <td>...</td>\n",
              "      <td>...</td>\n",
              "      <td>...</td>\n",
              "      <td>...</td>\n",
              "      <td>...</td>\n",
              "      <td>...</td>\n",
              "    </tr>\n",
              "    <tr>\n",
              "      <th>197403</th>\n",
              "      <td>Membantu</td>\n",
              "      <td>0</td>\n",
              "      <td>0</td>\n",
              "      <td>0</td>\n",
              "      <td>1</td>\n",
              "      <td>0</td>\n",
              "    </tr>\n",
              "    <tr>\n",
              "      <th>197404</th>\n",
              "      <td>Simple</td>\n",
              "      <td>0</td>\n",
              "      <td>0</td>\n",
              "      <td>0</td>\n",
              "      <td>0</td>\n",
              "      <td>1</td>\n",
              "    </tr>\n",
              "    <tr>\n",
              "      <th>197405</th>\n",
              "      <td>Mantap</td>\n",
              "      <td>0</td>\n",
              "      <td>0</td>\n",
              "      <td>0</td>\n",
              "      <td>0</td>\n",
              "      <td>1</td>\n",
              "    </tr>\n",
              "    <tr>\n",
              "      <th>197406</th>\n",
              "      <td>Mantab</td>\n",
              "      <td>0</td>\n",
              "      <td>0</td>\n",
              "      <td>0</td>\n",
              "      <td>0</td>\n",
              "      <td>1</td>\n",
              "    </tr>\n",
              "    <tr>\n",
              "      <th>197407</th>\n",
              "      <td>Good</td>\n",
              "      <td>0</td>\n",
              "      <td>0</td>\n",
              "      <td>0</td>\n",
              "      <td>0</td>\n",
              "      <td>1</td>\n",
              "    </tr>\n",
              "  </tbody>\n",
              "</table>\n",
              "<p>197408 rows × 6 columns</p>\n",
              "</div>\n",
              "      <button class=\"colab-df-convert\" onclick=\"convertToInteractive('df-94f86a75-e860-4180-a2f1-0b3ca9b694e7')\"\n",
              "              title=\"Convert this dataframe to an interactive table.\"\n",
              "              style=\"display:none;\">\n",
              "        \n",
              "  <svg xmlns=\"http://www.w3.org/2000/svg\" height=\"24px\"viewBox=\"0 0 24 24\"\n",
              "       width=\"24px\">\n",
              "    <path d=\"M0 0h24v24H0V0z\" fill=\"none\"/>\n",
              "    <path d=\"M18.56 5.44l.94 2.06.94-2.06 2.06-.94-2.06-.94-.94-2.06-.94 2.06-2.06.94zm-11 1L8.5 8.5l.94-2.06 2.06-.94-2.06-.94L8.5 2.5l-.94 2.06-2.06.94zm10 10l.94 2.06.94-2.06 2.06-.94-2.06-.94-.94-2.06-.94 2.06-2.06.94z\"/><path d=\"M17.41 7.96l-1.37-1.37c-.4-.4-.92-.59-1.43-.59-.52 0-1.04.2-1.43.59L10.3 9.45l-7.72 7.72c-.78.78-.78 2.05 0 2.83L4 21.41c.39.39.9.59 1.41.59.51 0 1.02-.2 1.41-.59l7.78-7.78 2.81-2.81c.8-.78.8-2.07 0-2.86zM5.41 20L4 18.59l7.72-7.72 1.47 1.35L5.41 20z\"/>\n",
              "  </svg>\n",
              "      </button>\n",
              "      \n",
              "  <style>\n",
              "    .colab-df-container {\n",
              "      display:flex;\n",
              "      flex-wrap:wrap;\n",
              "      gap: 12px;\n",
              "    }\n",
              "\n",
              "    .colab-df-convert {\n",
              "      background-color: #E8F0FE;\n",
              "      border: none;\n",
              "      border-radius: 50%;\n",
              "      cursor: pointer;\n",
              "      display: none;\n",
              "      fill: #1967D2;\n",
              "      height: 32px;\n",
              "      padding: 0 0 0 0;\n",
              "      width: 32px;\n",
              "    }\n",
              "\n",
              "    .colab-df-convert:hover {\n",
              "      background-color: #E2EBFA;\n",
              "      box-shadow: 0px 1px 2px rgba(60, 64, 67, 0.3), 0px 1px 3px 1px rgba(60, 64, 67, 0.15);\n",
              "      fill: #174EA6;\n",
              "    }\n",
              "\n",
              "    [theme=dark] .colab-df-convert {\n",
              "      background-color: #3B4455;\n",
              "      fill: #D2E3FC;\n",
              "    }\n",
              "\n",
              "    [theme=dark] .colab-df-convert:hover {\n",
              "      background-color: #434B5C;\n",
              "      box-shadow: 0px 1px 3px 1px rgba(0, 0, 0, 0.15);\n",
              "      filter: drop-shadow(0px 1px 2px rgba(0, 0, 0, 0.3));\n",
              "      fill: #FFFFFF;\n",
              "    }\n",
              "  </style>\n",
              "\n",
              "      <script>\n",
              "        const buttonEl =\n",
              "          document.querySelector('#df-94f86a75-e860-4180-a2f1-0b3ca9b694e7 button.colab-df-convert');\n",
              "        buttonEl.style.display =\n",
              "          google.colab.kernel.accessAllowed ? 'block' : 'none';\n",
              "\n",
              "        async function convertToInteractive(key) {\n",
              "          const element = document.querySelector('#df-94f86a75-e860-4180-a2f1-0b3ca9b694e7');\n",
              "          const dataTable =\n",
              "            await google.colab.kernel.invokeFunction('convertToInteractive',\n",
              "                                                     [key], {});\n",
              "          if (!dataTable) return;\n",
              "\n",
              "          const docLinkHtml = 'Like what you see? Visit the ' +\n",
              "            '<a target=\"_blank\" href=https://colab.research.google.com/notebooks/data_table.ipynb>data table notebook</a>'\n",
              "            + ' to learn more about interactive tables.';\n",
              "          element.innerHTML = '';\n",
              "          dataTable['output_type'] = 'display_data';\n",
              "          await google.colab.output.renderOutput(dataTable, element);\n",
              "          const docLink = document.createElement('div');\n",
              "          docLink.innerHTML = docLinkHtml;\n",
              "          element.appendChild(docLink);\n",
              "        }\n",
              "      </script>\n",
              "    </div>\n",
              "  </div>\n",
              "  "
            ]
          },
          "metadata": {},
          "execution_count": 11
        }
      ]
    },
    {
      "cell_type": "code",
      "source": [
        "features = final_df['content'].values\n",
        "categories = final_df[['very_bad','bad','average','good','very_good']]"
      ],
      "metadata": {
        "id": "4Yyol3AxMMBg"
      },
      "execution_count": 12,
      "outputs": []
    },
    {
      "cell_type": "code",
      "source": [
        "X_train, X_test, y_train, y_test = train_test_split(features, categories, test_size=0.2)"
      ],
      "metadata": {
        "id": "mAW03AcpMMwX"
      },
      "execution_count": 49,
      "outputs": []
    },
    {
      "cell_type": "code",
      "source": [
        "MAX_FEATURES = 20000\n",
        "OOV_TOKEN = 'x'\n",
        "\n",
        "tokenizer = Tokenizer(num_words=MAX_FEATURES, oov_token=OOV_TOKEN)\n",
        "tokenizer.fit_on_texts(X_train)\n",
        "\n",
        "train_seq = tokenizer.texts_to_sequences(X_train)\n",
        "test_seq = tokenizer.texts_to_sequences(X_test)\n",
        "\n",
        "X_train = pad_sequences(train_seq, maxlen=8, padding=\"post\",truncating=\"post\")\n",
        "X_test = pad_sequences(test_seq, maxlen=8, padding=\"post\",truncating=\"post\")"
      ],
      "metadata": {
        "id": "Fwzr1qHj6XaY"
      },
      "execution_count": 50,
      "outputs": []
    },
    {
      "cell_type": "code",
      "source": [
        "#X_train.shape, X_test.shape"
      ],
      "metadata": {
        "colab": {
          "base_uri": "https://localhost:8080/"
        },
        "id": "o6wYzQeXKzi8",
        "outputId": "7788cf2d-56df-43b5-ea7d-a7218bdf1fda"
      },
      "execution_count": 51,
      "outputs": [
        {
          "output_type": "execute_result",
          "data": {
            "text/plain": [
              "((157926, 8), (39482, 8))"
            ]
          },
          "metadata": {},
          "execution_count": 51
        }
      ]
    },
    {
      "cell_type": "code",
      "source": [
        "#X_test = np.lib.pad(X_train, ((0,0),(X_train.shape[1] - X_test.shape[1],0)), 'constant', constant_values=(0))"
      ],
      "metadata": {
        "id": "zOvvj44CLgvt"
      },
      "execution_count": 16,
      "outputs": []
    },
    {
      "cell_type": "code",
      "source": [
        "#X_train = np.lib.pad(X_train, ((0,0),(X_test.shape[1] - X_train.shape[1],0)), 'constant', constant_values=(0))"
      ],
      "metadata": {
        "id": "u2apDSEpWP0Q"
      },
      "execution_count": 18,
      "outputs": []
    },
    {
      "cell_type": "code",
      "source": [
        "#X_train.shape, X_test.shape"
      ],
      "metadata": {
        "id": "xh4pgGK0WaJU"
      },
      "execution_count": null,
      "outputs": []
    },
    {
      "cell_type": "markdown",
      "source": [
        "## MODEL SELECTION"
      ],
      "metadata": {
        "id": "2rMmL5tG6SeI"
      }
    },
    {
      "cell_type": "code",
      "source": [
        "INPUT_DIM = 20000\n",
        "OUTPUT_DIM = 64\n",
        "model = tf.keras.Sequential([\n",
        "    tf.keras.layers.Embedding(input_dim=INPUT_DIM, output_dim=OUTPUT_DIM),\n",
        "    tf.keras.layers.LSTM(64, dropout=0.5, recurrent_dropout=0.2),\n",
        "    tf.keras.layers.Dense(64, activation='relu'),\n",
        "    tf.keras.layers.Dropout(0.3),\n",
        "    tf.keras.layers.Dense(5, activation='softmax')\n",
        "])\n",
        "model.summary()"
      ],
      "metadata": {
        "colab": {
          "base_uri": "https://localhost:8080/"
        },
        "id": "9_kCEpzP7eSI",
        "outputId": "86497500-3e5e-416b-ea3e-d2fd881b7a23"
      },
      "execution_count": 52,
      "outputs": [
        {
          "output_type": "stream",
          "name": "stderr",
          "text": [
            "WARNING:tensorflow:Layer lstm_3 will not use cuDNN kernels since it doesn't meet the criteria. It will use a generic GPU kernel as fallback when running on GPU.\n"
          ]
        },
        {
          "output_type": "stream",
          "name": "stdout",
          "text": [
            "Model: \"sequential_3\"\n",
            "_________________________________________________________________\n",
            " Layer (type)                Output Shape              Param #   \n",
            "=================================================================\n",
            " embedding_3 (Embedding)     (None, None, 64)          1280000   \n",
            "                                                                 \n",
            " lstm_3 (LSTM)               (None, 64)                33024     \n",
            "                                                                 \n",
            " dense_6 (Dense)             (None, 64)                4160      \n",
            "                                                                 \n",
            " dropout_3 (Dropout)         (None, 64)                0         \n",
            "                                                                 \n",
            " dense_7 (Dense)             (None, 5)                 325       \n",
            "                                                                 \n",
            "=================================================================\n",
            "Total params: 1,317,509\n",
            "Trainable params: 1,317,509\n",
            "Non-trainable params: 0\n",
            "_________________________________________________________________\n"
          ]
        }
      ]
    },
    {
      "cell_type": "code",
      "source": [
        "model.compile(loss='categorical_crossentropy', optimizer='adam', metrics=['accuracy'])"
      ],
      "metadata": {
        "id": "cdqisLTKTxBv"
      },
      "execution_count": 53,
      "outputs": []
    },
    {
      "cell_type": "markdown",
      "source": [
        "MODEL TRAINING"
      ],
      "metadata": {
        "id": "uYjFm47sUIKc"
      }
    },
    {
      "cell_type": "code",
      "source": [
        "NUM_EPOCHS = 20\n",
        "\n",
        "start = time.time()\n",
        "history = model.fit(X_train, y_train,\n",
        "                    epochs=NUM_EPOCHS,\n",
        "                    validation_data=(X_test, y_test),\n",
        "                    verbose=2)\n",
        "stop = time.time()\n",
        "print(f'{stop-start}')"
      ],
      "metadata": {
        "id": "c-DXvAoMTIwh",
        "colab": {
          "base_uri": "https://localhost:8080/"
        },
        "outputId": "6814fd3f-ae31-43d7-ef14-ef30d64d84ea"
      },
      "execution_count": 54,
      "outputs": [
        {
          "output_type": "stream",
          "name": "stdout",
          "text": [
            "Epoch 1/20\n",
            "4936/4936 - 218s - loss: 0.7135 - accuracy: 0.7692 - val_loss: 0.6810 - val_accuracy: 0.7805 - 218s/epoch - 44ms/step\n",
            "Epoch 2/20\n",
            "4936/4936 - 210s - loss: 0.6731 - accuracy: 0.7792 - val_loss: 0.6685 - val_accuracy: 0.7808 - 210s/epoch - 43ms/step\n",
            "Epoch 3/20\n",
            "4936/4936 - 223s - loss: 0.6583 - accuracy: 0.7827 - val_loss: 0.6772 - val_accuracy: 0.7814 - 223s/epoch - 45ms/step\n",
            "Epoch 4/20\n",
            "4936/4936 - 228s - loss: 0.6451 - accuracy: 0.7869 - val_loss: 0.6750 - val_accuracy: 0.7825 - 228s/epoch - 46ms/step\n",
            "Epoch 5/20\n",
            "4936/4936 - 217s - loss: 0.6335 - accuracy: 0.7900 - val_loss: 0.6803 - val_accuracy: 0.7803 - 217s/epoch - 44ms/step\n",
            "Epoch 6/20\n",
            "4936/4936 - 193s - loss: 0.6228 - accuracy: 0.7933 - val_loss: 0.6816 - val_accuracy: 0.7822 - 193s/epoch - 39ms/step\n",
            "Epoch 7/20\n",
            "4936/4936 - 175s - loss: 0.6117 - accuracy: 0.7971 - val_loss: 0.6914 - val_accuracy: 0.7807 - 175s/epoch - 35ms/step\n",
            "Epoch 8/20\n",
            "4936/4936 - 174s - loss: 0.6011 - accuracy: 0.8011 - val_loss: 0.7053 - val_accuracy: 0.7791 - 174s/epoch - 35ms/step\n",
            "Epoch 9/20\n",
            "4936/4936 - 173s - loss: 0.5908 - accuracy: 0.8047 - val_loss: 0.7178 - val_accuracy: 0.7744 - 173s/epoch - 35ms/step\n",
            "Epoch 10/20\n",
            "4936/4936 - 172s - loss: 0.5809 - accuracy: 0.8088 - val_loss: 0.7340 - val_accuracy: 0.7728 - 172s/epoch - 35ms/step\n",
            "Epoch 11/20\n",
            "4936/4936 - 171s - loss: 0.5723 - accuracy: 0.8126 - val_loss: 0.7357 - val_accuracy: 0.7730 - 171s/epoch - 35ms/step\n",
            "Epoch 12/20\n",
            "4936/4936 - 170s - loss: 0.5669 - accuracy: 0.8145 - val_loss: 0.7454 - val_accuracy: 0.7735 - 170s/epoch - 35ms/step\n",
            "Epoch 13/20\n",
            "4936/4936 - 170s - loss: 0.5607 - accuracy: 0.8170 - val_loss: 0.7652 - val_accuracy: 0.7706 - 170s/epoch - 35ms/step\n",
            "Epoch 14/20\n",
            "4936/4936 - 171s - loss: 0.5541 - accuracy: 0.8194 - val_loss: 0.7746 - val_accuracy: 0.7692 - 171s/epoch - 35ms/step\n",
            "Epoch 15/20\n",
            "4936/4936 - 170s - loss: 0.5491 - accuracy: 0.8216 - val_loss: 0.7755 - val_accuracy: 0.7684 - 170s/epoch - 35ms/step\n",
            "Epoch 16/20\n",
            "4936/4936 - 170s - loss: 0.5450 - accuracy: 0.8223 - val_loss: 0.8035 - val_accuracy: 0.7685 - 170s/epoch - 34ms/step\n",
            "Epoch 17/20\n",
            "4936/4936 - 169s - loss: 0.5410 - accuracy: 0.8240 - val_loss: 0.8079 - val_accuracy: 0.7674 - 169s/epoch - 34ms/step\n",
            "Epoch 18/20\n",
            "4936/4936 - 169s - loss: 0.5377 - accuracy: 0.8254 - val_loss: 0.8262 - val_accuracy: 0.7675 - 169s/epoch - 34ms/step\n",
            "Epoch 19/20\n",
            "4936/4936 - 170s - loss: 0.5346 - accuracy: 0.8256 - val_loss: 0.8284 - val_accuracy: 0.7659 - 170s/epoch - 34ms/step\n",
            "Epoch 20/20\n",
            "4936/4936 - 169s - loss: 0.5307 - accuracy: 0.8272 - val_loss: 0.8303 - val_accuracy: 0.7654 - 169s/epoch - 34ms/step\n",
            "3682.1650569438934\n"
          ]
        }
      ]
    },
    {
      "cell_type": "code",
      "source": [
        "acc = history.history['accuracy']\n",
        "val_acc = history.history['val_accuracy']\n",
        "loss = history.history['loss']\n",
        "val_loss = history.history['val_loss']\n",
        "\n",
        "epochs = range(len(acc))\n",
        "\n",
        "plt.style.use('seaborn-whitegrid')\n",
        "plt.subplots(1, 2, figsize=[20, 5])\n",
        "plt.subplot(1,2,1)\n",
        "acc = plt.plot(epochs, acc, label='Training Accuracy')\n",
        "val_acc = plt.plot(epochs, val_acc, label='Validation Accuracy')\n",
        "plt.title('Model Accuracy')\n",
        "plt.legend(loc=0)\n",
        "plt.subplot(1,2,2)\n",
        "acc = plt.plot(epochs, loss, label='Training Loss')\n",
        "val_acc = plt.plot(epochs, val_loss, label='Validation Loss')\n",
        "plt.title('Model Loss')\n",
        "plt.legend(loc=0)\n",
        "plt.savefig('training_performance')\n",
        "plt.show"
      ],
      "metadata": {
        "id": "FkX-bdwrUGqy",
        "colab": {
          "base_uri": "https://localhost:8080/",
          "height": 349
        },
        "outputId": "d6ee4f37-c24b-43b3-b566-bac48762299f"
      },
      "execution_count": 60,
      "outputs": [
        {
          "output_type": "execute_result",
          "data": {
            "text/plain": [
              "<function matplotlib.pyplot.show(*args, **kw)>"
            ]
          },
          "metadata": {},
          "execution_count": 60
        },
        {
          "output_type": "display_data",
          "data": {
            "text/plain": [
              "<Figure size 1440x360 with 2 Axes>"
            ],
            "image/png": "[encoded data removed]"
          },
          "metadata": {}
        }
      ]
    },
    {
      "cell_type": "markdown",
      "source": [
        "Save the model"
      ],
      "metadata": {
        "id": "-QFV7qCzUkX0"
      }
    },
    {
      "cell_type": "code",
      "source": [
        "model.save('app_review_sentiment_analysis.h5')"
      ],
      "metadata": {
        "id": "vAaAKzlcUjwp"
      },
      "execution_count": 61,
      "outputs": []
    },
    {
      "cell_type": "markdown",
      "source": [
        "## PREDICTION"
      ],
      "metadata": {
        "id": "YJZXSEnWb-w5"
      }
    },
    {
      "cell_type": "code",
      "source": [
        "def sentiment_prediction(sentence, model=model):\n",
        "  sequence = tokenizer.texts_to_sequences([sentence])\n",
        "  test = pad_sequences(sequence, maxlen=8, padding=\"post\",truncating=\"post\")\n",
        "  predict_array = model.predict(test[0])\n",
        "\n",
        "  probability_df = pd.DataFrame(predict_array)\n",
        "  probability_df = probability_df.rename({0:'Probability'}, axis = 'columns')\n",
        "  sentiments = ['very bad', 'bad', 'average', 'good', 'very good']\n",
        "  probability_df['sentiment'] = sentiments\n",
        "  \n",
        "  prediction_category = np.argmax(model.predict(test), axis=1)[0]\n",
        "  \n",
        "  if prediction_category == 0:\n",
        "    prediction_result = 'very bad'\n",
        "  elif prediction_category == 1:\n",
        "    prediction_result = 'bad'\n",
        "  elif prediction_category == 2:\n",
        "    prediction_result = 'average'\n",
        "  elif prediction_category == 3:\n",
        "    prediction_result = 'good'\n",
        "  else:\n",
        "    prediction_result = 'very good'\n",
        "\n",
        "  return prediction_result, probability_df"
      ],
      "metadata": {
        "id": "R12M_hqxj2Bd"
      },
      "execution_count": 69,
      "outputs": []
    },
    {
      "cell_type": "code",
      "source": [
        "sentence = \"Aplikasinya bagus\"\n",
        "prediction_result, probability_df = sentiment_prediction(sentence)\n",
        "\n",
        "print('\\nThis comment was detected as ' + prediction_result +  ' sentiment')\n",
        "\n",
        "probability_df.sort_values(by='Probability', ascending=False)"
      ],
      "metadata": {
        "id": "CVfsrbfZiDWR"
      },
      "execution_count": null,
      "outputs": []
    }
  ]
}